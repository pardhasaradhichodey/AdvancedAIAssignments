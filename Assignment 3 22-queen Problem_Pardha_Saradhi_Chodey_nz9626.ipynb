{
 "cells": [
  {
   "cell_type": "markdown",
   "metadata": {},
   "source": [
    "## Assignment 3, 22-Queen Problem"
   ]
  },
  {
   "cell_type": "markdown",
   "metadata": {},
   "source": [
    "Your homework must be implemented in this Notebook file. \n",
    "You can add as many cells as you want. However, you are not allowed to touch the code below the line \"=============\".\n",
    "### Name:Pardha Saradhi Chodey\n",
    "### Net I'd: nz9626\n",
    "### Email: pchodey@horizon.csueastbay.edu"
   ]
  },
  {
   "cell_type": "code",
   "execution_count": 32,
   "metadata": {},
   "outputs": [],
   "source": [
    "n=22"
   ]
  },
  {
   "cell_type": "code",
   "execution_count": 33,
   "metadata": {},
   "outputs": [
    {
     "ename": "SystemExit",
     "evalue": "Exited Because required number of outputs reached",
     "output_type": "error",
     "traceback": [
      "An exception has occurred, use %tb to see the full traceback.\n",
      "\u001b[1;31mSystemExit\u001b[0m\u001b[1;31m:\u001b[0m Exited Because required number of outputs reached\n"
     ]
    }
   ],
   "source": [
    "import sys\n",
    "result = []\n",
    "def print_result(result):\n",
    "    for i in result:\n",
    "        for j in range(n):\n",
    "            print((j,i[j]-1),end=' ')\n",
    "        print('')\n",
    "def isSafe(board, row, col):\n",
    "    for i in range(col):\n",
    "        if (board[row][i]):\n",
    "            return False\n",
    "    i = row\n",
    "    j = col\n",
    "    while i >= 0 and j >= 0:\n",
    "        if(board[i][j]):\n",
    "            return False\n",
    "        i -= 1\n",
    "        j -= 1\n",
    "    i = row\n",
    "    j = col\n",
    "    while j >= 0 and i < n:\n",
    "        if(board[i][j]):\n",
    "            return False\n",
    "        i = i + 1\n",
    "        j = j - 1\n",
    "    return True\n",
    "def NQueenUntil(board, col):\n",
    "    if (col ==n):\n",
    "        v = []\n",
    "        for i in board:\n",
    "            for j in range(len(i)):\n",
    "                if i[j] == 1:\n",
    "                    v.append(j+1)\n",
    "        result.append(v)\n",
    "        if len(result)==4:#if you want more outputs increase the number\n",
    "            sys.exit('Exited Because required number of outputs reached')\n",
    "        return True\n",
    "    res = False\n",
    "    for i in range(n):\n",
    "        if (isSafe(board, i, col)):\n",
    "            board[i][col] = 1\n",
    "            res = NQueenUntil(board, col + 1) or res\n",
    "            board[i][col] = 0 # BACKTRACK\n",
    "    return res\n",
    "def NQueens(n):\n",
    "    result.clear()\n",
    "    board = [[0 for j in range(n)] for i in range(n)]\n",
    "    NQueenUntil(board, 0)\n",
    "    result.sort()\n",
    "    return result\n",
    "x=NQueens(n)"
   ]
  },
  {
   "cell_type": "code",
   "execution_count": null,
   "metadata": {},
   "outputs": [],
   "source": []
  },
  {
   "cell_type": "code",
   "execution_count": null,
   "metadata": {},
   "outputs": [],
   "source": []
  },
  {
   "cell_type": "code",
   "execution_count": null,
   "metadata": {},
   "outputs": [],
   "source": []
  },
  {
   "cell_type": "markdown",
   "metadata": {},
   "source": [
    "You can insert as many cells as you want above.\n",
    "You are not Allowed to modify the code below this line.\n",
    "# ==============================="
   ]
  },
  {
   "cell_type": "code",
   "execution_count": 34,
   "metadata": {
    "scrolled": false
   },
   "outputs": [
    {
     "name": "stdout",
     "output_type": "stream",
     "text": [
      "(0, 0) (1, 3) (2, 1) (3, 4) (4, 2) (5, 17) (6, 19) (7, 13) (8, 16) (9, 5) (10, 20) (11, 15) (12, 9) (13, 6) (14, 21) (15, 18) (16, 7) (17, 12) (18, 10) (19, 8) (20, 14) (21, 11) \n",
      "(0, 0) (1, 3) (2, 1) (3, 4) (4, 2) (5, 15) (6, 18) (7, 14) (8, 21) (9, 5) (10, 13) (11, 17) (12, 20) (13, 6) (14, 8) (15, 19) (16, 11) (17, 9) (18, 7) (19, 16) (20, 10) (21, 12) \n",
      "(0, 0) (1, 3) (2, 1) (3, 4) (4, 2) (5, 17) (6, 15) (7, 13) (8, 18) (9, 5) (10, 21) (11, 19) (12, 16) (13, 6) (14, 9) (15, 12) (16, 8) (17, 20) (18, 7) (19, 10) (20, 14) (21, 11) \n",
      "(0, 0) (1, 3) (2, 1) (3, 4) (4, 2) (5, 18) (6, 13) (7, 15) (8, 20) (9, 5) (10, 16) (11, 21) (12, 9) (13, 17) (14, 6) (15, 10) (16, 19) (17, 7) (18, 11) (19, 8) (20, 14) (21, 12) \n"
     ]
    }
   ],
   "source": [
    "#you need to implement print_result function to print out the result according to the required format\n",
    "print_result(result)"
   ]
  },
  {
   "cell_type": "markdown",
   "metadata": {},
   "source": [
    "\n",
    "The output format should be as follows. You only need to give 4 solutions in the following format.\n",
    "Example Output for 4-queens Problem. Each pair of values represents the position of a queen (row, column)\n",
    "\n",
    "(0,1) (1,3) (2,0) (3,2)\n",
    "\n",
    "(0,2) (1,0) (2,3) (3,1)\n",
    "\n",
    "\n"
   ]
  }
 ],
 "metadata": {
  "anaconda-cloud": {},
  "kernelspec": {
   "display_name": "Python 3 (ipykernel)",
   "language": "python",
   "name": "python3"
  },
  "language_info": {
   "codemirror_mode": {
    "name": "ipython",
    "version": 3
   },
   "file_extension": ".py",
   "mimetype": "text/x-python",
   "name": "python",
   "nbconvert_exporter": "python",
   "pygments_lexer": "ipython3",
   "version": "3.11.0"
  }
 },
 "nbformat": 4,
 "nbformat_minor": 1
}
